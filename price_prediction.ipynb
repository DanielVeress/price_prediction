{
 "cells": [
  {
   "cell_type": "code",
   "execution_count": 36,
   "id": "4d70cf4b",
   "metadata": {},
   "outputs": [],
   "source": [
    "import os\n",
    "import math\n",
    "import numpy as np\n",
    "import pandas as pd\n",
    "\n",
    "# data normalization\n",
    "from sklearn.preprocessing import MinMaxScaler, StandardScaler\n",
    "\n",
    "# model training\n",
    "import tensorflow as tf\n",
    "from tensorflow.keras import Sequential\n",
    "from tensorflow.keras.layers import Dense, Dropout, LSTM, GRU\n",
    "\n",
    "# model prediction\n",
    "from sklearn.metrics import mean_absolute_error\n",
    "\n",
    "# for plotting\n",
    "import matplotlib.pyplot as plt\n",
    "import plotly.graph_objects as go\n",
    "import plotly.subplots as sp"
   ]
  },
  {
   "cell_type": "code",
   "execution_count": 5,
   "id": "14a8728e",
   "metadata": {},
   "outputs": [],
   "source": [
    "%matplotlib inline"
   ]
  },
  {
   "cell_type": "markdown",
   "id": "1f32049e",
   "metadata": {},
   "source": [
    "<h2>Table of Contents</h2>\n",
    "<ul>\n",
    "    <a href='#Load-in-data'>Load in data</a><br>\n",
    "    <a href='#Data-splitting'>Data splitting</a><br>\n",
    "    <a href='#Data-normalization'>Data normalization</a>\n",
    "    <a href='#Model-training'>Model training</a><br>\n",
    "    <a href='#Model-prediction'>Model prediction</a><br>\n",
    "    <a href='#Summary'>Summary</a><br>\n",
    "</ul>"
   ]
  },
  {
   "cell_type": "code",
   "execution_count": 6,
   "id": "70970f0b",
   "metadata": {},
   "outputs": [],
   "source": [
    "# setting a seed\n",
    "seed = 1234\n",
    "np.random.seed(seed)\n",
    "tf.random.set_seed(seed)"
   ]
  },
  {
   "cell_type": "markdown",
   "id": "99817d8d",
   "metadata": {},
   "source": [
    "## Load in data"
   ]
  },
  {
   "cell_type": "code",
   "execution_count": 7,
   "id": "7317f211",
   "metadata": {},
   "outputs": [],
   "source": [
    "# ticker symbol for a company\n",
    "ticker_symbol = 'TSLA'"
   ]
  },
  {
   "cell_type": "code",
   "execution_count": 14,
   "id": "43b8450c",
   "metadata": {},
   "outputs": [
    {
     "name": "stdout",
     "output_type": "stream",
     "text": [
      "Most recent file will be used: processed_data/TSLA/2023_08_30_19_58_32.csv\n"
     ]
    }
   ],
   "source": [
    "# checking if file for it exists\n",
    "path = f'processed_data/{ticker_symbol}'\n",
    "if os.path.exists:\n",
    "    path += f'/{os.listdir(path)[0]}'\n",
    "    print(f'Most recent file will be used: {path}')\n",
    "else:\n",
    "    print('No folder found for ticker!')"
   ]
  },
  {
   "cell_type": "code",
   "execution_count": 15,
   "id": "36917930",
   "metadata": {},
   "outputs": [],
   "source": [
    "# read in file\n",
    "df = pd.read_csv(path)"
   ]
  },
  {
   "cell_type": "code",
   "execution_count": 16,
   "id": "42ab9f29",
   "metadata": {},
   "outputs": [],
   "source": [
    "# setting date as the index\n",
    "df['date'] = pd.to_datetime(df['date'])\n",
    "df.set_index(pd.DatetimeIndex(df['date']), inplace=True)"
   ]
  },
  {
   "cell_type": "code",
   "execution_count": 17,
   "id": "7602a005",
   "metadata": {
    "scrolled": true
   },
   "outputs": [
    {
     "data": {
      "text/html": [
       "<div>\n",
       "<style scoped>\n",
       "    .dataframe tbody tr th:only-of-type {\n",
       "        vertical-align: middle;\n",
       "    }\n",
       "\n",
       "    .dataframe tbody tr th {\n",
       "        vertical-align: top;\n",
       "    }\n",
       "\n",
       "    .dataframe thead th {\n",
       "        text-align: right;\n",
       "    }\n",
       "</style>\n",
       "<table border=\"1\" class=\"dataframe\">\n",
       "  <thead>\n",
       "    <tr style=\"text-align: right;\">\n",
       "      <th></th>\n",
       "      <th>date</th>\n",
       "      <th>volume</th>\n",
       "      <th>open</th>\n",
       "      <th>high</th>\n",
       "      <th>low</th>\n",
       "      <th>close</th>\n",
       "      <th>adjclose</th>\n",
       "      <th>MACD_12_26_9</th>\n",
       "      <th>MACDh_12_26_9</th>\n",
       "      <th>MACDs_12_26_9</th>\n",
       "      <th>SMA_50</th>\n",
       "      <th>SMA_200</th>\n",
       "      <th>RSI_14</th>\n",
       "      <th>ROC_14</th>\n",
       "      <th>DIFF_10</th>\n",
       "    </tr>\n",
       "    <tr>\n",
       "      <th>date</th>\n",
       "      <th></th>\n",
       "      <th></th>\n",
       "      <th></th>\n",
       "      <th></th>\n",
       "      <th></th>\n",
       "      <th></th>\n",
       "      <th></th>\n",
       "      <th></th>\n",
       "      <th></th>\n",
       "      <th></th>\n",
       "      <th></th>\n",
       "      <th></th>\n",
       "      <th></th>\n",
       "      <th></th>\n",
       "      <th></th>\n",
       "    </tr>\n",
       "  </thead>\n",
       "  <tbody>\n",
       "    <tr>\n",
       "      <th>2011-04-12</th>\n",
       "      <td>2011-04-12</td>\n",
       "      <td>1357400</td>\n",
       "      <td>25.080000</td>\n",
       "      <td>25.209999</td>\n",
       "      <td>24.299999</td>\n",
       "      <td>24.650000</td>\n",
       "      <td>24.650000</td>\n",
       "      <td>0.612515</td>\n",
       "      <td>0.084880</td>\n",
       "      <td>0.527635</td>\n",
       "      <td>23.9594</td>\n",
       "      <td>23.72635</td>\n",
       "      <td>49.263035</td>\n",
       "      <td>10.986045</td>\n",
       "      <td>0.730000</td>\n",
       "    </tr>\n",
       "    <tr>\n",
       "      <th>2011-04-13</th>\n",
       "      <td>2011-04-13</td>\n",
       "      <td>1211500</td>\n",
       "      <td>25.129999</td>\n",
       "      <td>25.690001</td>\n",
       "      <td>24.809999</td>\n",
       "      <td>24.930000</td>\n",
       "      <td>24.930000</td>\n",
       "      <td>0.528058</td>\n",
       "      <td>0.000338</td>\n",
       "      <td>0.527720</td>\n",
       "      <td>23.9798</td>\n",
       "      <td>23.73155</td>\n",
       "      <td>50.769381</td>\n",
       "      <td>11.643531</td>\n",
       "      <td>1.220001</td>\n",
       "    </tr>\n",
       "    <tr>\n",
       "      <th>2011-04-14</th>\n",
       "      <td>2011-04-14</td>\n",
       "      <td>983400</td>\n",
       "      <td>24.870001</td>\n",
       "      <td>25.280001</td>\n",
       "      <td>24.200001</td>\n",
       "      <td>25.139999</td>\n",
       "      <td>25.139999</td>\n",
       "      <td>0.472622</td>\n",
       "      <td>-0.044078</td>\n",
       "      <td>0.516700</td>\n",
       "      <td>24.0038</td>\n",
       "      <td>23.73810</td>\n",
       "      <td>51.922270</td>\n",
       "      <td>10.505492</td>\n",
       "      <td>-2.610001</td>\n",
       "    </tr>\n",
       "  </tbody>\n",
       "</table>\n",
       "</div>"
      ],
      "text/plain": [
       "                 date   volume       open       high        low      close  \\\n",
       "date                                                                         \n",
       "2011-04-12 2011-04-12  1357400  25.080000  25.209999  24.299999  24.650000   \n",
       "2011-04-13 2011-04-13  1211500  25.129999  25.690001  24.809999  24.930000   \n",
       "2011-04-14 2011-04-14   983400  24.870001  25.280001  24.200001  25.139999   \n",
       "\n",
       "             adjclose  MACD_12_26_9  MACDh_12_26_9  MACDs_12_26_9   SMA_50  \\\n",
       "date                                                                         \n",
       "2011-04-12  24.650000      0.612515       0.084880       0.527635  23.9594   \n",
       "2011-04-13  24.930000      0.528058       0.000338       0.527720  23.9798   \n",
       "2011-04-14  25.139999      0.472622      -0.044078       0.516700  24.0038   \n",
       "\n",
       "             SMA_200     RSI_14     ROC_14   DIFF_10  \n",
       "date                                                  \n",
       "2011-04-12  23.72635  49.263035  10.986045  0.730000  \n",
       "2011-04-13  23.73155  50.769381  11.643531  1.220001  \n",
       "2011-04-14  23.73810  51.922270  10.505492 -2.610001  "
      ]
     },
     "execution_count": 17,
     "metadata": {},
     "output_type": "execute_result"
    }
   ],
   "source": [
    "df.head(3)"
   ]
  },
  {
   "cell_type": "code",
   "execution_count": 18,
   "id": "663f694a",
   "metadata": {},
   "outputs": [
    {
     "data": {
      "text/plain": [
       "Index(['date', 'volume', 'open', 'high', 'low', 'close', 'adjclose',\n",
       "       'MACD_12_26_9', 'MACDh_12_26_9', 'MACDs_12_26_9', 'SMA_50', 'SMA_200',\n",
       "       'RSI_14', 'ROC_14', 'DIFF_10'],\n",
       "      dtype='object')"
      ]
     },
     "execution_count": 18,
     "metadata": {},
     "output_type": "execute_result"
    }
   ],
   "source": [
    "df.columns"
   ]
  },
  {
   "cell_type": "markdown",
   "id": "6d1827c2",
   "metadata": {},
   "source": [
    "## Data splitting"
   ]
  },
  {
   "cell_type": "code",
   "execution_count": 26,
   "id": "e0588dbb",
   "metadata": {
    "scrolled": true
   },
   "outputs": [
    {
     "name": "stdout",
     "output_type": "stream",
     "text": [
      "The predicted column: DIFF_10\n",
      "The prediction is 10 days into the future.\n"
     ]
    }
   ],
   "source": [
    "train_prec = 0.8\n",
    "\n",
    "# the columns that are used as training data (the predicted columns should be the last one) \n",
    "used_columns = [\n",
    "    'volume', 'open', 'high', 'low', 'close',\n",
    "    'MACD_12_26_9', 'MACDh_12_26_9', 'MACDs_12_26_9', \n",
    "    'SMA_50', 'SMA_200',\n",
    "    'RSI_14', \n",
    "    'ROC_14', \n",
    "    'DIFF_10']\n",
    "predicted_column = len(used_columns)-1\n",
    "print(f'The predicted column: {used_columns[predicted_column]}')\n",
    "\n",
    "prediction_range = used_columns[predicted_column].split('_').pop()\n",
    "print(f'The prediction is {prediction_range} days into the future.')"
   ]
  },
  {
   "cell_type": "code",
   "execution_count": 27,
   "id": "4ad0bcd9",
   "metadata": {},
   "outputs": [],
   "source": [
    "# getting the data that we are going to use\n",
    "used_data = df[used_columns]"
   ]
  },
  {
   "cell_type": "code",
   "execution_count": 28,
   "id": "036ded8b",
   "metadata": {},
   "outputs": [
    {
     "name": "stdout",
     "output_type": "stream",
     "text": [
      "Train dataset size: 1857\n",
      "Test dataset size: 465\n"
     ]
    }
   ],
   "source": [
    "train_size = int(used_data.shape[0] * train_prec)\n",
    "\n",
    "train_data = np.array(used_data[:train_size])\n",
    "print(f'Train dataset size: {train_data.shape[0]}')\n",
    "test_data = np.array(used_data[train_size:])\n",
    "print(f'Test dataset size: {test_data.shape[0]}')"
   ]
  },
  {
   "cell_type": "markdown",
   "id": "89e2199b",
   "metadata": {},
   "source": [
    "## Data normalization\n",
    "\n",
    "Normalizing stock prices is a tricky business. Different time periods can have drastically different price ranges, and if we normalize al these different periods together, then larger ranges will have a disproportionate effect on all data.\n",
    "\n",
    "**Solution:**\n",
    "We will separate our data into different periods, or windows, and normalize within them. \n",
    "\n",
    "Note: This will result in breaks between the periods, but if the window is big enough than this won't be a problem as there will only be a few of them."
   ]
  },
  {
   "cell_type": "code",
   "execution_count": 40,
   "id": "7fa72287",
   "metadata": {},
   "outputs": [],
   "source": [
    "# the number of periods, that our dataset will be broken into\n",
    "normalization_windows = 5"
   ]
  },
  {
   "cell_type": "code",
   "execution_count": 41,
   "id": "75ee5195",
   "metadata": {},
   "outputs": [],
   "source": [
    "scaler = StandardScaler()"
   ]
  },
  {
   "cell_type": "code",
   "execution_count": 42,
   "id": "4d94b9d1",
   "metadata": {},
   "outputs": [
    {
     "name": "stdout",
     "output_type": "stream",
     "text": [
      "This will result in 4 breaks in the data.\n",
      "The window size will be 465.\n"
     ]
    }
   ],
   "source": [
    "# getting the size of one window\n",
    "size_of_normalization_windows = math.ceil(used_data.shape[0] / normalization_windows)\n",
    "print(f'This will result in {normalization_windows-1} breaks in the data.')\n",
    "print(f'The window size will be {size_of_normalization_windows}.')"
   ]
  },
  {
   "cell_type": "code",
   "execution_count": 43,
   "id": "a30e49cf",
   "metadata": {},
   "outputs": [],
   "source": [
    "# normalizing training data\n",
    "for i in range(0, train_data.shape[0], size_of_normalization_windows):\n",
    "    window_end = i + size_of_normalization_windows\n",
    "    train_data[i:window_end] = scaler.fit_transform(train_data[i:window_end])"
   ]
  },
  {
   "cell_type": "code",
   "execution_count": 44,
   "id": "893ab391",
   "metadata": {},
   "outputs": [],
   "source": [
    "# normalizing test data (without fitting the scaler to it!)\n",
    "for i in range(0, test_data.shape[0], size_of_normalization_windows):\n",
    "    window_end = i + size_of_normalization_windows\n",
    "    test_data[i:window_end] = scaler.transform(test_data[i:window_end])"
   ]
  },
  {
   "cell_type": "markdown",
   "id": "0a4637df",
   "metadata": {},
   "source": [
    "## Data sequences"
   ]
  },
  {
   "cell_type": "code",
   "execution_count": 50,
   "id": "284abbbf",
   "metadata": {},
   "outputs": [],
   "source": [
    "# params\n",
    "sequence_length = 30 # days\n",
    "feature_num = len(used_columns) - 1"
   ]
  },
  {
   "cell_type": "code",
   "execution_count": 51,
   "id": "c37c8ca0",
   "metadata": {},
   "outputs": [],
   "source": [
    "def create_data_sequence(data):\n",
    "    '''\n",
    "    Creates sequences that can be fed to LSTM like models.\n",
    "    '''\n",
    "    print(f'\\tOriginal shape: {data.shape}')\n",
    "\n",
    "    window_size = sequence_length\n",
    "    print(f'\\tSequence length: {window_size}')\n",
    "    \n",
    "    # removing last window's size\n",
    "    data_size = data.shape[0] - window_size\n",
    "    print(f'\\tUsable data size: {data_size}')\n",
    "    \n",
    "    X = []\n",
    "    y = []\n",
    "    for i in range(0, data_size):\n",
    "        # adding 'sequence lenght' amount of data points\n",
    "        X.append(data[i:i+window_size, :predicted_column])\n",
    "        \n",
    "        # adding target value from last data point in the sequence\n",
    "        y.append(data[i+window_size-1, predicted_column])  \n",
    "\n",
    "    return np.array(X), np.array(y)"
   ]
  },
  {
   "cell_type": "code",
   "execution_count": 53,
   "id": "25d82e88",
   "metadata": {},
   "outputs": [
    {
     "name": "stdout",
     "output_type": "stream",
     "text": [
      "Creating training sequences\n",
      "Creating sequences...\n",
      "\tOriginal shape: (1857, 13)\n",
      "\tSequence length: 30\n",
      "\tUsable data size: 1827\n",
      "X_train: (1827, 30, 12)\n",
      "y_train: (1827,)\n",
      "\n",
      "Creating testing sequences\n",
      "Creating sequences...\n",
      "\tOriginal shape: (465, 13)\n",
      "\tSequence length: 30\n",
      "\tUsable data size: 435\n",
      "X_test: (435, 30, 12)\n",
      "y_test: (435,)\n"
     ]
    }
   ],
   "source": [
    "print('Creating training sequences')\n",
    "X_train, y_train = create_data_sequence(train_data)\n",
    "print(f'X_train: {X_train.shape}')\n",
    "print(f'y_train: {y_train.shape}')\n",
    "\n",
    "print('\\nCreating testing sequences')\n",
    "X_test, y_test = create_data_sequence(test_data)\n",
    "print(f'X_test: {X_test.shape}')\n",
    "print(f'y_test: {y_test.shape}')"
   ]
  },
  {
   "cell_type": "markdown",
   "id": "08690d9d",
   "metadata": {},
   "source": [
    "# Model training"
   ]
  },
  {
   "cell_type": "code",
   "execution_count": 54,
   "id": "c8222d38",
   "metadata": {},
   "outputs": [],
   "source": [
    "# params for training\n",
    "epochs = 15\n",
    "batch_size = 128\n",
    "\n",
    "optimizer = 'adam'\n",
    "loss = 'mean_squared_error'"
   ]
  },
  {
   "cell_type": "code",
   "execution_count": 55,
   "id": "68dc2e0f",
   "metadata": {
    "scrolled": true
   },
   "outputs": [
    {
     "name": "stdout",
     "output_type": "stream",
     "text": [
      "Epoch 1/15\n",
      "15/15 [==============================] - 1s 10ms/step - loss: 0.8323\n",
      "Epoch 2/15\n",
      "15/15 [==============================] - 0s 10ms/step - loss: 0.4587\n",
      "Epoch 3/15\n",
      "15/15 [==============================] - 0s 10ms/step - loss: 0.2705\n",
      "Epoch 4/15\n",
      "15/15 [==============================] - 0s 10ms/step - loss: 0.1814\n",
      "Epoch 5/15\n",
      "15/15 [==============================] - 0s 10ms/step - loss: 0.1545\n",
      "Epoch 6/15\n",
      "15/15 [==============================] - 0s 10ms/step - loss: 0.1386\n",
      "Epoch 7/15\n",
      "15/15 [==============================] - 0s 10ms/step - loss: 0.1306\n",
      "Epoch 8/15\n",
      "15/15 [==============================] - 0s 10ms/step - loss: 0.1255\n",
      "Epoch 9/15\n",
      "15/15 [==============================] - 0s 11ms/step - loss: 0.1178\n",
      "Epoch 10/15\n",
      "15/15 [==============================] - 0s 12ms/step - loss: 0.1071\n",
      "Epoch 11/15\n",
      "15/15 [==============================] - 0s 13ms/step - loss: 0.1021\n",
      "Epoch 12/15\n",
      "15/15 [==============================] - 0s 12ms/step - loss: 0.0981\n",
      "Epoch 13/15\n",
      "15/15 [==============================] - 0s 12ms/step - loss: 0.0933\n",
      "Epoch 14/15\n",
      "15/15 [==============================] - 0s 14ms/step - loss: 0.0866\n",
      "Epoch 15/15\n",
      "15/15 [==============================] - 0s 13ms/step - loss: 0.0885\n"
     ]
    },
    {
     "data": {
      "text/plain": [
       "<keras.callbacks.History at 0x7fdf6bae2290>"
      ]
     },
     "execution_count": 55,
     "metadata": {},
     "output_type": "execute_result"
    }
   ],
   "source": [
    "# creating model\n",
    "model = Sequential([\n",
    "    LSTM(50, activation='relu', input_shape=(sequence_length, feature_num), seed=seed),\n",
    "    #Dropout(0.2, seed=seed),\n",
    "    #LSTM(20, activation='relu', seed=seed),\n",
    "    # GRU layer\n",
    "    Dense(1)\n",
    "])\n",
    "\n",
    "# compile model\n",
    "model.compile(optimizer=optimizer, loss=loss)\n",
    "\n",
    "# train model\n",
    "model.fit(X_train, y_train, epochs=epochs, batch_size=batch_size)"
   ]
  },
  {
   "cell_type": "markdown",
   "id": "b2b95f95",
   "metadata": {},
   "source": [
    "# Model prediction"
   ]
  },
  {
   "cell_type": "code",
   "execution_count": 56,
   "id": "f7f0448f",
   "metadata": {
    "scrolled": true
   },
   "outputs": [
    {
     "name": "stdout",
     "output_type": "stream",
     "text": [
      "14/14 [==============================] - 0s 3ms/step\n"
     ]
    }
   ],
   "source": [
    "# predict\n",
    "y_pred = model.predict(X_test)"
   ]
  },
  {
   "cell_type": "markdown",
   "id": "34757891",
   "metadata": {},
   "source": [
    "### Results"
   ]
  },
  {
   "cell_type": "code",
   "execution_count": 64,
   "id": "f825d87f",
   "metadata": {},
   "outputs": [
    {
     "name": "stdout",
     "output_type": "stream",
     "text": [
      "4.62190924919694\n"
     ]
    }
   ],
   "source": [
    "print(mean_absolute_error(y_test.reshape(-1,1), y_pred))"
   ]
  },
  {
   "cell_type": "code",
   "execution_count": 65,
   "id": "e634a0c2",
   "metadata": {
    "scrolled": false
   },
   "outputs": [
    {
     "data": {
      "image/png": "[encoded data removed]",
      "text/plain": [
       "<Figure size 1800x900 with 1 Axes>"
      ]
     },
     "metadata": {},
     "output_type": "display_data"
    }
   ],
   "source": [
    "# check resulting score\n",
    "plt.figure(figsize=(18,9))\n",
    "\n",
    "# plot results vs actual\n",
    "plt.scatter(range(y_test.shape[0]), y_test.reshape(-1,1), c='g', alpha=0.5, label='Actual value')\n",
    "plt.scatter(range(y_pred.shape[0]), y_pred, c='b', alpha=0.5, label='Predicted value')\n",
    "\n",
    "plt.axhline(y=0, c='r')\n",
    "plt.legend()\n",
    "\n",
    "plt.title(f'Actual vs Predicted {used_columns[-1]} values')\n",
    "plt.ylabel(f'{used_columns[-1]} values')\n",
    "\n",
    "plt.show()"
   ]
  },
  {
   "cell_type": "markdown",
   "id": "7eff5e65",
   "metadata": {},
   "source": [
    "### Results visualized"
   ]
  },
  {
   "cell_type": "markdown",
   "id": "9fdc088d",
   "metadata": {},
   "source": [
    "#### Creating dataframe with results"
   ]
  },
  {
   "cell_type": "code",
   "execution_count": 74,
   "id": "c4b542e3",
   "metadata": {},
   "outputs": [],
   "source": [
    "concat_pred = np.concatenate((test_data[:X_test.shape[0], :predicted_column], y_pred), axis=1)"
   ]
  },
  {
   "cell_type": "code",
   "execution_count": 75,
   "id": "37c10f82",
   "metadata": {},
   "outputs": [
    {
     "data": {
      "text/html": [
       "<div>\n",
       "<style scoped>\n",
       "    .dataframe tbody tr th:only-of-type {\n",
       "        vertical-align: middle;\n",
       "    }\n",
       "\n",
       "    .dataframe tbody tr th {\n",
       "        vertical-align: top;\n",
       "    }\n",
       "\n",
       "    .dataframe thead th {\n",
       "        text-align: right;\n",
       "    }\n",
       "</style>\n",
       "<table border=\"1\" class=\"dataframe\">\n",
       "  <thead>\n",
       "    <tr style=\"text-align: right;\">\n",
       "      <th></th>\n",
       "      <th>volume</th>\n",
       "      <th>open</th>\n",
       "      <th>high</th>\n",
       "      <th>low</th>\n",
       "      <th>close</th>\n",
       "      <th>MACD_12_26_9</th>\n",
       "      <th>MACDh_12_26_9</th>\n",
       "      <th>MACDs_12_26_9</th>\n",
       "      <th>SMA_50</th>\n",
       "      <th>SMA_200</th>\n",
       "      <th>RSI_14</th>\n",
       "      <th>ROC_14</th>\n",
       "      <th>DIFF_10</th>\n",
       "    </tr>\n",
       "  </thead>\n",
       "  <tbody>\n",
       "    <tr>\n",
       "      <th>0</th>\n",
       "      <td>7649100.0</td>\n",
       "      <td>318.410004</td>\n",
       "      <td>318.880005</td>\n",
       "      <td>311.190002</td>\n",
       "      <td>311.859985</td>\n",
       "      <td>-2.560148</td>\n",
       "      <td>-3.183611</td>\n",
       "      <td>0.623463</td>\n",
       "      <td>327.357601</td>\n",
       "      <td>318.615251</td>\n",
       "      <td>43.326793</td>\n",
       "      <td>-15.790898</td>\n",
       "      <td>-36.186102</td>\n",
       "    </tr>\n",
       "    <tr>\n",
       "      <th>1</th>\n",
       "      <td>7447400.0</td>\n",
       "      <td>310.269989</td>\n",
       "      <td>311.850006</td>\n",
       "      <td>303.690002</td>\n",
       "      <td>305.010010</td>\n",
       "      <td>-3.863209</td>\n",
       "      <td>-3.589338</td>\n",
       "      <td>-0.273871</td>\n",
       "      <td>326.406802</td>\n",
       "      <td>318.625351</td>\n",
       "      <td>40.742667</td>\n",
       "      <td>-13.460065</td>\n",
       "      <td>-42.660630</td>\n",
       "    </tr>\n",
       "    <tr>\n",
       "      <th>2</th>\n",
       "      <td>7216700.0</td>\n",
       "      <td>302.260010</td>\n",
       "      <td>304.600006</td>\n",
       "      <td>297.720001</td>\n",
       "      <td>303.149994</td>\n",
       "      <td>-4.988479</td>\n",
       "      <td>-3.771686</td>\n",
       "      <td>-1.216793</td>\n",
       "      <td>325.225402</td>\n",
       "      <td>318.564101</td>\n",
       "      <td>40.044258</td>\n",
       "      <td>-14.723339</td>\n",
       "      <td>-43.180792</td>\n",
       "    </tr>\n",
       "  </tbody>\n",
       "</table>\n",
       "</div>"
      ],
      "text/plain": [
       "      volume        open        high         low       close  MACD_12_26_9  \\\n",
       "0  7649100.0  318.410004  318.880005  311.190002  311.859985     -2.560148   \n",
       "1  7447400.0  310.269989  311.850006  303.690002  305.010010     -3.863209   \n",
       "2  7216700.0  302.260010  304.600006  297.720001  303.149994     -4.988479   \n",
       "\n",
       "   MACDh_12_26_9  MACDs_12_26_9      SMA_50     SMA_200     RSI_14     ROC_14  \\\n",
       "0      -3.183611       0.623463  327.357601  318.615251  43.326793 -15.790898   \n",
       "1      -3.589338      -0.273871  326.406802  318.625351  40.742667 -13.460065   \n",
       "2      -3.771686      -1.216793  325.225402  318.564101  40.044258 -14.723339   \n",
       "\n",
       "     DIFF_10  \n",
       "0 -36.186102  \n",
       "1 -42.660630  \n",
       "2 -43.180792  "
      ]
     },
     "execution_count": 75,
     "metadata": {},
     "output_type": "execute_result"
    }
   ],
   "source": [
    "result_df = pd.DataFrame(scaler.inverse_transform(concat_pred))\n",
    "result_df.columns = used_columns\n",
    "result_df.head(3)"
   ]
  },
  {
   "cell_type": "code",
   "execution_count": 78,
   "id": "bb60ab92",
   "metadata": {
    "scrolled": true
   },
   "outputs": [
    {
     "data": {
      "text/html": [
       "<div>\n",
       "<style scoped>\n",
       "    .dataframe tbody tr th:only-of-type {\n",
       "        vertical-align: middle;\n",
       "    }\n",
       "\n",
       "    .dataframe tbody tr th {\n",
       "        vertical-align: top;\n",
       "    }\n",
       "\n",
       "    .dataframe thead th {\n",
       "        text-align: right;\n",
       "    }\n",
       "</style>\n",
       "<table border=\"1\" class=\"dataframe\">\n",
       "  <thead>\n",
       "    <tr style=\"text-align: right;\">\n",
       "      <th></th>\n",
       "      <th>date</th>\n",
       "      <th>volume</th>\n",
       "      <th>open</th>\n",
       "      <th>high</th>\n",
       "      <th>low</th>\n",
       "      <th>close</th>\n",
       "      <th>adjclose</th>\n",
       "      <th>MACD_12_26_9</th>\n",
       "      <th>MACDh_12_26_9</th>\n",
       "      <th>MACDs_12_26_9</th>\n",
       "      <th>SMA_50</th>\n",
       "      <th>SMA_200</th>\n",
       "      <th>RSI_14</th>\n",
       "      <th>ROC_14</th>\n",
       "      <th>DIFF_10</th>\n",
       "    </tr>\n",
       "    <tr>\n",
       "      <th>date</th>\n",
       "      <th></th>\n",
       "      <th></th>\n",
       "      <th></th>\n",
       "      <th></th>\n",
       "      <th></th>\n",
       "      <th></th>\n",
       "      <th></th>\n",
       "      <th></th>\n",
       "      <th></th>\n",
       "      <th></th>\n",
       "      <th></th>\n",
       "      <th></th>\n",
       "      <th></th>\n",
       "      <th></th>\n",
       "      <th></th>\n",
       "    </tr>\n",
       "  </thead>\n",
       "  <tbody>\n",
       "    <tr>\n",
       "      <th>2018-08-28</th>\n",
       "      <td>2018-08-28</td>\n",
       "      <td>7649100</td>\n",
       "      <td>318.410004</td>\n",
       "      <td>318.880005</td>\n",
       "      <td>311.190002</td>\n",
       "      <td>311.859985</td>\n",
       "      <td>311.859985</td>\n",
       "      <td>-2.560148</td>\n",
       "      <td>-3.183611</td>\n",
       "      <td>0.623463</td>\n",
       "      <td>327.357601</td>\n",
       "      <td>318.615251</td>\n",
       "      <td>43.326793</td>\n",
       "      <td>-15.790898</td>\n",
       "      <td>-35.780029</td>\n",
       "    </tr>\n",
       "    <tr>\n",
       "      <th>2018-08-29</th>\n",
       "      <td>2018-08-29</td>\n",
       "      <td>7447400</td>\n",
       "      <td>310.269989</td>\n",
       "      <td>311.850006</td>\n",
       "      <td>303.690002</td>\n",
       "      <td>305.010010</td>\n",
       "      <td>305.010010</td>\n",
       "      <td>-3.863209</td>\n",
       "      <td>-3.589338</td>\n",
       "      <td>-0.273871</td>\n",
       "      <td>326.406802</td>\n",
       "      <td>318.625351</td>\n",
       "      <td>40.742667</td>\n",
       "      <td>-13.460065</td>\n",
       "      <td>-33.679993</td>\n",
       "    </tr>\n",
       "    <tr>\n",
       "      <th>2018-08-30</th>\n",
       "      <td>2018-08-30</td>\n",
       "      <td>7216700</td>\n",
       "      <td>302.260010</td>\n",
       "      <td>304.600006</td>\n",
       "      <td>297.720001</td>\n",
       "      <td>303.149994</td>\n",
       "      <td>303.149994</td>\n",
       "      <td>-4.988479</td>\n",
       "      <td>-3.771686</td>\n",
       "      <td>-1.216793</td>\n",
       "      <td>325.225402</td>\n",
       "      <td>318.564101</td>\n",
       "      <td>40.044258</td>\n",
       "      <td>-14.723339</td>\n",
       "      <td>-32.300018</td>\n",
       "    </tr>\n",
       "  </tbody>\n",
       "</table>\n",
       "</div>"
      ],
      "text/plain": [
       "                 date   volume        open        high         low  \\\n",
       "date                                                                 \n",
       "2018-08-28 2018-08-28  7649100  318.410004  318.880005  311.190002   \n",
       "2018-08-29 2018-08-29  7447400  310.269989  311.850006  303.690002   \n",
       "2018-08-30 2018-08-30  7216700  302.260010  304.600006  297.720001   \n",
       "\n",
       "                 close    adjclose  MACD_12_26_9  MACDh_12_26_9  \\\n",
       "date                                                              \n",
       "2018-08-28  311.859985  311.859985     -2.560148      -3.183611   \n",
       "2018-08-29  305.010010  305.010010     -3.863209      -3.589338   \n",
       "2018-08-30  303.149994  303.149994     -4.988479      -3.771686   \n",
       "\n",
       "            MACDs_12_26_9      SMA_50     SMA_200     RSI_14     ROC_14  \\\n",
       "date                                                                      \n",
       "2018-08-28       0.623463  327.357601  318.615251  43.326793 -15.790898   \n",
       "2018-08-29      -0.273871  326.406802  318.625351  40.742667 -13.460065   \n",
       "2018-08-30      -1.216793  325.225402  318.564101  40.044258 -14.723339   \n",
       "\n",
       "              DIFF_10  \n",
       "date                   \n",
       "2018-08-28 -35.780029  \n",
       "2018-08-29 -33.679993  \n",
       "2018-08-30 -32.300018  "
      ]
     },
     "execution_count": 78,
     "metadata": {},
     "output_type": "execute_result"
    }
   ],
   "source": [
    "# original just for comparison\n",
    "test_range = (train_size, train_size+result_df.shape[0])\n",
    "df.iloc[test_range[0]:test_range[1], :].head(3)"
   ]
  },
  {
   "cell_type": "code",
   "execution_count": 89,
   "id": "0b5ca94e",
   "metadata": {},
   "outputs": [
    {
     "data": {
      "text/html": [
       "<div>\n",
       "<style scoped>\n",
       "    .dataframe tbody tr th:only-of-type {\n",
       "        vertical-align: middle;\n",
       "    }\n",
       "\n",
       "    .dataframe tbody tr th {\n",
       "        vertical-align: top;\n",
       "    }\n",
       "\n",
       "    .dataframe thead th {\n",
       "        text-align: right;\n",
       "    }\n",
       "</style>\n",
       "<table border=\"1\" class=\"dataframe\">\n",
       "  <thead>\n",
       "    <tr style=\"text-align: right;\">\n",
       "      <th></th>\n",
       "      <th>volume</th>\n",
       "      <th>open</th>\n",
       "      <th>high</th>\n",
       "      <th>low</th>\n",
       "      <th>close</th>\n",
       "      <th>MACD_12_26_9</th>\n",
       "      <th>MACDh_12_26_9</th>\n",
       "      <th>MACDs_12_26_9</th>\n",
       "      <th>SMA_50</th>\n",
       "      <th>SMA_200</th>\n",
       "      <th>RSI_14</th>\n",
       "      <th>ROC_14</th>\n",
       "      <th>DIFF_10</th>\n",
       "      <th>date</th>\n",
       "    </tr>\n",
       "  </thead>\n",
       "  <tbody>\n",
       "    <tr>\n",
       "      <th>0</th>\n",
       "      <td>7649100.0</td>\n",
       "      <td>318.410004</td>\n",
       "      <td>318.880005</td>\n",
       "      <td>311.190002</td>\n",
       "      <td>311.859985</td>\n",
       "      <td>-2.560148</td>\n",
       "      <td>-3.183611</td>\n",
       "      <td>0.623463</td>\n",
       "      <td>327.357601</td>\n",
       "      <td>318.615251</td>\n",
       "      <td>43.326793</td>\n",
       "      <td>-15.790898</td>\n",
       "      <td>-36.186102</td>\n",
       "      <td>2018-08-28</td>\n",
       "    </tr>\n",
       "    <tr>\n",
       "      <th>1</th>\n",
       "      <td>7447400.0</td>\n",
       "      <td>310.269989</td>\n",
       "      <td>311.850006</td>\n",
       "      <td>303.690002</td>\n",
       "      <td>305.010010</td>\n",
       "      <td>-3.863209</td>\n",
       "      <td>-3.589338</td>\n",
       "      <td>-0.273871</td>\n",
       "      <td>326.406802</td>\n",
       "      <td>318.625351</td>\n",
       "      <td>40.742667</td>\n",
       "      <td>-13.460065</td>\n",
       "      <td>-42.660630</td>\n",
       "      <td>2018-08-29</td>\n",
       "    </tr>\n",
       "    <tr>\n",
       "      <th>2</th>\n",
       "      <td>7216700.0</td>\n",
       "      <td>302.260010</td>\n",
       "      <td>304.600006</td>\n",
       "      <td>297.720001</td>\n",
       "      <td>303.149994</td>\n",
       "      <td>-4.988479</td>\n",
       "      <td>-3.771686</td>\n",
       "      <td>-1.216793</td>\n",
       "      <td>325.225402</td>\n",
       "      <td>318.564101</td>\n",
       "      <td>40.044258</td>\n",
       "      <td>-14.723339</td>\n",
       "      <td>-43.180792</td>\n",
       "      <td>2018-08-30</td>\n",
       "    </tr>\n",
       "  </tbody>\n",
       "</table>\n",
       "</div>"
      ],
      "text/plain": [
       "      volume        open        high         low       close  MACD_12_26_9  \\\n",
       "0  7649100.0  318.410004  318.880005  311.190002  311.859985     -2.560148   \n",
       "1  7447400.0  310.269989  311.850006  303.690002  305.010010     -3.863209   \n",
       "2  7216700.0  302.260010  304.600006  297.720001  303.149994     -4.988479   \n",
       "\n",
       "   MACDh_12_26_9  MACDs_12_26_9      SMA_50     SMA_200     RSI_14     ROC_14  \\\n",
       "0      -3.183611       0.623463  327.357601  318.615251  43.326793 -15.790898   \n",
       "1      -3.589338      -0.273871  326.406802  318.625351  40.742667 -13.460065   \n",
       "2      -3.771686      -1.216793  325.225402  318.564101  40.044258 -14.723339   \n",
       "\n",
       "     DIFF_10       date  \n",
       "0 -36.186102 2018-08-28  \n",
       "1 -42.660630 2018-08-29  \n",
       "2 -43.180792 2018-08-30  "
      ]
     },
     "execution_count": 89,
     "metadata": {},
     "output_type": "execute_result"
    }
   ],
   "source": [
    "# adding back close price, if it wasn't used\n",
    "if 'close' not in result_df.columns:\n",
    "    result_df['close'] = df.iloc[test_range[0]:test_range[1]]['close'].reset_index(drop=True)\n",
    "    \n",
    "# adding back date\n",
    "result_df['date'] = df.iloc[test_range[0]:test_range[1]]['date'].reset_index(drop=True)\n",
    "\n",
    "result_df.head(3)"
   ]
  },
  {
   "cell_type": "code",
   "execution_count": null,
   "id": "acc83a29",
   "metadata": {
    "scrolled": true
   },
   "outputs": [],
   "source": [
    "plotted_data_size = X_test.shape[0] + sequence_length\n",
    "\n",
    "# preparing data for plotting results\n",
    "plotted_data = df[train_size:train_size+plotted_data_size]\n",
    "plotted_data.reset_index(drop=True, inplace=True)"
   ]
  },
  {
   "cell_type": "code",
   "execution_count": null,
   "id": "aa44fa73",
   "metadata": {},
   "outputs": [],
   "source": [
    "# inverse transforming the predicted results\n",
    "dummy_array = np.ones(shape=(y_pred.shape[0], feature_num))\n",
    "inverse_y_pred = np.concatenate((dummy_array, y_pred), axis=1)\n",
    "\n",
    "inverse_y_pred = scaler.inverse_transform(inverse_y_pred)[:, 1]"
   ]
  },
  {
   "cell_type": "code",
   "execution_count": null,
   "id": "311d0848",
   "metadata": {},
   "outputs": [],
   "source": [
    "def create_line_coords(data, shown_line_prec=0.1):\n",
    "    shown_line_num = int(np.ceil(inverse_y_pred.shape[0] * shown_line_prec))\n",
    "    offset = int(np.ceil(inverse_y_pred.shape[0] / shown_line_num))\n",
    "\n",
    "    print(f'all lines: {inverse_y_pred.shape[0]}')\n",
    "    print(f'shown lines: {shown_line_num}')\n",
    "    print(f'gap between lines: {offset}')\n",
    "    \n",
    "    lines = pd.DataFrame()\n",
    "    for i in range(0, shown_line_num):\n",
    "        line_data_idx = sequence_length + i*offset\n",
    "        if line_data_idx >= inverse_y_pred.shape[0]:\n",
    "            break ## TODO - clean this up, make something better for this\n",
    "            # Currently the problem is, that we are rounding the number up, so at the end the idx goes over the limit\n",
    "            # even if round down, there will be problems in the visualization\n",
    "        \n",
    "        # the start of the line (the last price in the window)\n",
    "        lines.loc[i, 'start_x'] = data.loc[line_data_idx, 'date']\n",
    "        lines.loc[i, 'start_y'] = data.loc[line_data_idx, 'close']\n",
    "        \n",
    "        # the end of the line (10 day in the future)\n",
    "        lines.loc[i, 'end_x'] = data.loc[line_data_idx, 'date'] + time_offset\n",
    "\n",
    "    # adding the prediction\n",
    "    lines['end_y'] = lines['start_y'] + data['difference']#pd.Series(inverse_y_pred)\n",
    "    \n",
    "    print(f'created {lines.shape[0]} lines')\n",
    "    return lines"
   ]
  },
  {
   "cell_type": "code",
   "execution_count": null,
   "id": "0111f805",
   "metadata": {},
   "outputs": [],
   "source": [
    "# the difference's length\n",
    "time_offset = pd.Timedelta(days=10)\n",
    "shown_line_prec = 0.4"
   ]
  },
  {
   "cell_type": "code",
   "execution_count": null,
   "id": "a5383fce",
   "metadata": {
    "scrolled": true
   },
   "outputs": [],
   "source": [
    "lines = create_line_coords(results, shown_line_prec) # creating the start and the end of the lines"
   ]
  },
  {
   "cell_type": "code",
   "execution_count": null,
   "id": "6c111243",
   "metadata": {},
   "outputs": [],
   "source": [
    "mistake = results['orig_diff'] - results['difference']\n",
    "mistake.describe()"
   ]
  },
  {
   "cell_type": "code",
   "execution_count": null,
   "id": "2b423d30",
   "metadata": {},
   "outputs": [],
   "source": [
    "plt.figure(figsize=(18, 9))\n",
    "\n",
    "plt.bar(x=range(mistake.shape[0]), height=mistake)\n",
    "\n",
    "plt.show()"
   ]
  },
  {
   "cell_type": "code",
   "execution_count": null,
   "id": "4dcbc1b4",
   "metadata": {
    "scrolled": false
   },
   "outputs": [],
   "source": [
    "fig = go.Figure()\n",
    "\n",
    "# adding price\n",
    "fig.add_trace(\n",
    "    go.Scatter(\n",
    "         x=results['date'], \n",
    "         y=results['close'],\n",
    "         name='Closing price',\n",
    "         line_color='blue',\n",
    "    )\n",
    ")\n",
    "fig.update_yaxes(\n",
    "    title_text='Close Price', \n",
    "    tickprefix='$'\n",
    ")\n",
    "\n",
    "# adding resulting momentum\n",
    "for i in range(lines.shape[0]):\n",
    "    fig.add_shape(\n",
    "        type='line',\n",
    "        x0=lines.loc[i, 'start_x'], x1=lines.loc[i, 'end_x'],\n",
    "        y0=lines.loc[i, 'start_y'], y1=lines.loc[i, 'end_y'],\n",
    "        line=dict(color='red', width=1)\n",
    "    )\n",
    "\n",
    "# general settings\n",
    "#fig.update_yaxes(range=(150, 400))\n",
    "\n",
    "fig.update_layout(\n",
    "    title='Results',\n",
    "    height=1200,\n",
    "    title_x=0.5,\n",
    "    xaxis_rangeslider_visible=True,\n",
    "    xaxis_rangeslider_thickness=0.1\n",
    ")\n",
    "\n",
    "# showing a pretty plot\n",
    "fig.show()"
   ]
  },
  {
   "cell_type": "code",
   "execution_count": null,
   "id": "422f5d33",
   "metadata": {},
   "outputs": [],
   "source": [
    "X_test.reshape(-1,7)[:,0].shape"
   ]
  },
  {
   "cell_type": "code",
   "execution_count": null,
   "id": "e21489c0",
   "metadata": {},
   "outputs": [],
   "source": [
    "used_columns"
   ]
  },
  {
   "cell_type": "code",
   "execution_count": null,
   "id": "0c6fa882",
   "metadata": {},
   "outputs": [],
   "source": [
    "test = X_test.reshape(-1,7)[:,0]"
   ]
  },
  {
   "cell_type": "code",
   "execution_count": null,
   "id": "154167fc",
   "metadata": {},
   "outputs": [],
   "source": [
    "fig = go.Figure()\n",
    "\n",
    "# adding price\n",
    "fig.add_trace(\n",
    "    go.Scatter(\n",
    "         x=np.arange(test.shape[0]), \n",
    "         y=np.arange(1),\n",
    "         name='Closing price',\n",
    "         line_color='blue',\n",
    "    )\n",
    ")\n",
    "fig.update_yaxes(\n",
    "    title_text='Close Price', \n",
    "    tickprefix='$'\n",
    ")\n",
    "\n",
    "# adding resulting momentum\n",
    "for i in range(lines.shape[0]):\n",
    "    break\n",
    "    fig.add_shape(\n",
    "        type='line',\n",
    "        x0=lines.loc[i, 'start_x'], x1=lines.loc[i, 'end_x'],\n",
    "        y0=lines.loc[i, 'start_y'], y1=lines.loc[i, 'end_y'],\n",
    "        line=dict(color='red', width=1)\n",
    "    )\n",
    "\n",
    "# general settings\n",
    "#fig.update_yaxes(range=(150, 400))\n",
    "\n",
    "fig.update_layout(\n",
    "    title='Results',\n",
    "    height=1200,\n",
    "    title_x=0.5,\n",
    "    xaxis_rangeslider_visible=True,\n",
    "    xaxis_rangeslider_thickness=0.1\n",
    ")\n",
    "\n",
    "# showing a pretty plot\n",
    "fig.show()"
   ]
  },
  {
   "cell_type": "markdown",
   "id": "52918f63",
   "metadata": {},
   "source": [
    "# Summary"
   ]
  },
  {
   "cell_type": "code",
   "execution_count": null,
   "id": "e5b60989",
   "metadata": {},
   "outputs": [],
   "source": [
    "# TODO\n",
    "# save params and results for later comparison\n",
    "# make comparison with earlier models\n",
    "# look how much profit can be made by following the model (make some simple algo for trading)"
   ]
  },
  {
   "cell_type": "code",
   "execution_count": null,
   "id": "cde23843",
   "metadata": {},
   "outputs": [],
   "source": []
  }
 ],
 "metadata": {
  "kernelspec": {
   "display_name": "Python 3 (ipykernel)",
   "language": "python",
   "name": "python3"
  },
  "language_info": {
   "codemirror_mode": {
    "name": "ipython",
    "version": 3
   },
   "file_extension": ".py",
   "mimetype": "text/x-python",
   "name": "python",
   "nbconvert_exporter": "python",
   "pygments_lexer": "ipython3",
   "version": "3.10.10"
  }
 },
 "nbformat": 4,
 "nbformat_minor": 5
}
